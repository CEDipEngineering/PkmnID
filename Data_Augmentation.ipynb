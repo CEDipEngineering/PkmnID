{
 "cells": [
  {
   "cell_type": "markdown",
   "metadata": {},
   "source": [
    "## Augmenter\n",
    "Produz imagens rotacionadas, multiplicando os dados disponíveis por 4."
   ]
  },
  {
   "cell_type": "code",
   "execution_count": 32,
   "metadata": {},
   "outputs": [
    {
     "name": "stdout",
     "output_type": "stream",
     "text": [
      "Requirement already satisfied: opencv-contrib-python in c:\\programdata\\anaconda3\\lib\\site-packages (4.1.1.26)\n",
      "Requirement already satisfied: numpy>=1.14.5 in c:\\programdata\\anaconda3\\lib\\site-packages (from opencv-contrib-python) (1.15.4)\n"
     ]
    }
   ],
   "source": [
    "!pip install opencv-contrib-python\n",
    "import cv2\n",
    "import os\n",
    "import numpy as np\n",
    "from sklearn.model_selection import train_test_split\n",
    "\n",
    "np.random.seed(0)\n",
    "\n",
    "origin_dir = 'Assets/Data_Filtered_Resized'\n",
    "destination_dir = 'Assets/new'"
   ]
  },
  {
   "cell_type": "code",
   "execution_count": 63,
   "metadata": {},
   "outputs": [],
   "source": [
    "def Collect_Img_Names(data_dir = origin_dir):\n",
    "    X = []\n",
    "    Y = []\n",
    "    for folder in os.listdir(data_dir):\n",
    "        for file in os.listdir(os.path.join(data_dir,folder)):\n",
    "            if not file.endswith(('.gif','.svg','.asp')):\n",
    "                X.append(os.path.join(data_dir,folder,file))\n",
    "                Y.append(folder)\n",
    "    return X,Y\n",
    "\n",
    "def Img_Transpose(filename, destination_dir = destination_dir):\n",
    "    for img in filename:\n",
    "        if os.path.split(os.path.split(img)[0])[1] not in os.listdir(destination_dir):\n",
    "            os.mkdir(os.path.join(destination_dir,os.path.split(os.path.split(img)[0])[1]))\n",
    "        target = os.path.join(destination_dir, os.path.split(os.path.split(img)[0])[1], os.path.split(img)[1])\n",
    "        cv2.imwrite(target,cv2.imread(img))\n",
    "        \n",
    "def Data_Augment(origin_dir = origin_dir, destination_dir = destination_dir):\n",
    "    \n",
    "    current_dir = destination_dir[:]\n",
    "    i = 1\n",
    "    \n",
    "    for pkmn in os.listdir(origin_dir):\n",
    "        \n",
    "        if pkmn not in os.listdir(destination_dir):\n",
    "            os.mkdir(os.path.join(destination_dir, pkmn))\n",
    "        \n",
    "        current_dir = os.path.join(origin_dir, pkmn)\n",
    "        print(i, pkmn)\n",
    "        j = 0\n",
    "        \n",
    "        for k, img in enumerate(os.listdir(current_dir)):\n",
    "            \n",
    "            if not img.endswith(('.gif','.svg','.asp')):\n",
    "                original_img = cv2.imread(os.path.join(current_dir, img), cv2.IMREAD_UNCHANGED)\n",
    "                success = cv2.imwrite(os.path.join(destination_dir, pkmn, pkmn + '_' + str(j) + '.jpg'), original_img)\n",
    "                rotated = cv2.rotate(original_img, cv2.ROTATE_90_CLOCKWISE)\n",
    "                success = cv2.imwrite(os.path.join(destination_dir, pkmn, pkmn + '_' + str(j+1) + '.jpg'), rotated)\n",
    "                rotated = cv2.rotate(original_img, cv2.ROTATE_180)\n",
    "                success = cv2.imwrite(os.path.join(destination_dir, pkmn, pkmn + '_' + str(j+2) + '.jpg'), rotated)\n",
    "                rotated = cv2.rotate(original_img, cv2.ROTATE_90_COUNTERCLOCKWISE)\n",
    "                success = cv2.imwrite(os.path.join(destination_dir, pkmn, pkmn + '_' + str(j+3) + '.jpg'), rotated)\n",
    "                j += 4\n",
    "                \n",
    "            else:\n",
    "                print(pkmn,img)\n",
    "        i += 1\n",
    "        \n",
    "    print('Done.')"
   ]
  },
  {
   "cell_type": "code",
   "execution_count": 46,
   "metadata": {},
   "outputs": [],
   "source": [
    "X,Y = Collect_Img_Names()\n",
    "X_train, X_test, y_train, y_test = train_test_split(X, Y, test_size=0.15, random_state=0)\n"
   ]
  },
  {
   "cell_type": "code",
   "execution_count": 65,
   "metadata": {},
   "outputs": [],
   "source": [
    "Img_Transpose(X_train, 'Assets/temp_Train')\n",
    "Img_Transpose(X_test, 'Assets/temp_Test')"
   ]
  },
  {
   "cell_type": "code",
   "execution_count": 66,
   "metadata": {},
   "outputs": [
    {
     "name": "stdout",
     "output_type": "stream",
     "text": [
      "1 Aerodactyl\n",
      "2 Alakazam\n",
      "3 Arbok\n",
      "4 Arcanine\n",
      "5 Beedrill\n",
      "6 Bellsprout\n",
      "7 Bulbasaur\n",
      "8 Charmander\n",
      "9 Jigglypuff\n",
      "10 Meowth\n",
      "11 Pidgey\n",
      "12 Squirtle\n",
      "13 Voltorb\n",
      "Done.\n",
      "1 Aerodactyl\n",
      "2 Alakazam\n",
      "3 Arbok\n",
      "4 Arcanine\n",
      "5 Beedrill\n",
      "6 Bellsprout\n",
      "7 Bulbasaur\n",
      "8 Charmander\n",
      "9 Jigglypuff\n",
      "10 Meowth\n",
      "11 Pidgey\n",
      "12 Squirtle\n",
      "13 Voltorb\n",
      "Done.\n"
     ]
    }
   ],
   "source": [
    "Data_Augment('Assets/temp_Test', 'Assets/Data_Test')\n",
    "Data_Augment('Assets/temp_Train/', 'Assets/Data_Train/')"
   ]
  },
  {
   "cell_type": "code",
   "execution_count": 60,
   "metadata": {},
   "outputs": [
    {
     "data": {
      "text/plain": [
       "'Charmander'"
      ]
     },
     "execution_count": 60,
     "metadata": {},
     "output_type": "execute_result"
    }
   ],
   "source": []
  }
 ],
 "metadata": {
  "kernelspec": {
   "display_name": "Python 3",
   "language": "python",
   "name": "python3"
  },
  "language_info": {
   "codemirror_mode": {
    "name": "ipython",
    "version": 3
   },
   "file_extension": ".py",
   "mimetype": "text/x-python",
   "name": "python",
   "nbconvert_exporter": "python",
   "pygments_lexer": "ipython3",
   "version": "3.7.1"
  }
 },
 "nbformat": 4,
 "nbformat_minor": 4
}
