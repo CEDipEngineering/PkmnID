{
 "cells": [
  {
   "cell_type": "markdown",
   "metadata": {},
   "source": [
    "## Augmenter\n",
    "Produz imagens rotacionadas, multiplicando os dados disponíveis por 4."
   ]
  },
  {
   "cell_type": "code",
   "execution_count": 6,
   "metadata": {},
   "outputs": [
    {
     "name": "stdout",
     "output_type": "stream",
     "text": [
      "Requirement already satisfied: opencv-contrib-python in c:\\programdata\\anaconda3\\lib\\site-packages (4.1.1.26)\n",
      "Requirement already satisfied: numpy>=1.14.5 in c:\\programdata\\anaconda3\\lib\\site-packages (from opencv-contrib-python) (1.16.4)\n",
      "1 Aerodactyl\n",
      "2 Alakazam\n",
      "3 Arbok\n",
      "4 Arcanine\n",
      "5 Beedrill\n",
      "6 Bellsprout\n",
      "7 Bulbasaur\n",
      "8 Charmander\n",
      "9 Jigglypuff\n",
      "10 Meowth\n",
      "11 Mew\n",
      "12 Pidgey\n",
      "13 Pikachu\n",
      "14 Squirtle\n",
      "15 Voltorb\n",
      "Done.\n"
     ]
    }
   ],
   "source": [
    "!pip install opencv-contrib-python\n",
    "import cv2\n",
    "import os\n",
    "import os.path\n",
    "\n",
    "origin_dir = 'Assets/Data_Filtered_Resized'\n",
    "destination_dir = 'Assets/new'\n",
    "\n",
    "current_dir = destination_dir[:]\n",
    "\n",
    "i = 1 \n",
    "for pkmn in os.listdir(origin_dir):\n",
    "    if pkmn not in os.listdir(destination_dir):\n",
    "        os.mkdir(os.path.join(destination_dir, pkmn))\n",
    "    current_dir = os.path.join(origin_dir, pkmn)\n",
    "    print(i, pkmn)\n",
    "    j = 0\n",
    "    for k, img in enumerate(os.listdir(current_dir)):\n",
    "        if not img.endswith(('.gif','.svg','.asp')):\n",
    "        \n",
    "            original_img = cv2.imread(os.path.join(current_dir, img), cv2.IMREAD_UNCHANGED)\n",
    "            success = cv2.imwrite(os.path.join(destination_dir, pkmn, pkmn + '_' + str(j) + '.jpg'), original_img)\n",
    "            rotated = cv2.rotate(original_img, cv2.ROTATE_90_CLOCKWISE)\n",
    "            success = cv2.imwrite(os.path.join(destination_dir, pkmn, pkmn + '_' + str(j+1) + '.jpg'), rotated)\n",
    "            rotated = cv2.rotate(original_img, cv2.ROTATE_180)\n",
    "            success = cv2.imwrite(os.path.join(destination_dir, pkmn, pkmn + '_' + str(j+2) + '.jpg'), rotated)\n",
    "            rotated = cv2.rotate(original_img, cv2.ROTATE_90_COUNTERCLOCKWISE)\n",
    "            success = cv2.imwrite(os.path.join(destination_dir, pkmn, pkmn + '_' + str(j+3) + '.jpg'), rotated)\n",
    "            \n",
    "            j += 4\n",
    "        else:\n",
    "            print(pkmn,img)\n",
    "    i += 1\n",
    "\n",
    "    \n",
    "print('Done.')"
   ]
  },
  {
   "cell_type": "code",
   "execution_count": null,
   "metadata": {},
   "outputs": [],
   "source": []
  },
  {
   "cell_type": "code",
   "execution_count": null,
   "metadata": {},
   "outputs": [],
   "source": []
  }
 ],
 "metadata": {
  "kernelspec": {
   "display_name": "Python 3",
   "language": "python",
   "name": "python3"
  },
  "language_info": {
   "codemirror_mode": {
    "name": "ipython",
    "version": 3
   },
   "file_extension": ".py",
   "mimetype": "text/x-python",
   "name": "python",
   "nbconvert_exporter": "python",
   "pygments_lexer": "ipython3",
   "version": "3.7.1"
  }
 },
 "nbformat": 4,
 "nbformat_minor": 4
}
