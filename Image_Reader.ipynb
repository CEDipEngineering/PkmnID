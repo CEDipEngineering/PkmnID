{
 "cells": [
  {
   "cell_type": "markdown",
   "metadata": {},
   "source": [
    "# Exemplo de \"Bag of Visual Words\"\n",
    "\n",
    "Vocês estão recebendo este código do professor e devem dar o crédito devido, para que não se caracterize a situação de tentar passar esforço dos outros como sendo seu (a.k.a. plágio). Divirtam-se!"
   ]
  },
  {
   "cell_type": "code",
   "execution_count": null,
   "metadata": {
    "scrolled": true
   },
   "outputs": [],
   "source": [
    "!pip install opencv-contrib-python\n",
    "import cv2\n",
    "import os\n",
    "import os.path\n",
    "import numpy as np\n",
    "import math\n",
    "import pandas as pd\n",
    "from sklearn.ensemble import RandomForestClassifier\n",
    "import matplotlib.pyplot as plt\n",
    "\n",
    "# Set random seed\n",
    "np.random.seed(0)\n",
    "\n",
    "\n",
    "DATA_DIR = 'Assets//Data_Filtered_Resized'\n",
    "CATEGORY_LIST = ['Alakazam', 'Aerodactyl']   #os.listdir(DATA_DIR)\n",
    "NUM_IMAGES_TRAIN_PER_CATEGORY = 60\n",
    "NUM_IMAGES_TEST_PER_CATEGORY = 20\n",
    "NUM_CLUSTERS = 25\n",
    "\n",
    "def get_images_from_category(category, num_train, num_test, data_dir):\n",
    "    category_dir = os.path.join(DATA_DIR, category)\n",
    "    num_total = num_train + num_test\n",
    "    filenames_train = []\n",
    "    filenames_test = []\n",
    "    \n",
    "    for k, filename in enumerate(os.listdir(category_dir)):\n",
    "        if k < num_train:\n",
    "            filenames_train.append(os.path.join(category_dir, filename))\n",
    "        elif k < num_total:\n",
    "            filenames_test.append(os.path.join(category_dir, filename))\n",
    "        else:\n",
    "            break\n",
    "    return filenames_train, filenames_test\n",
    "\n",
    "def get_images_from_category_list(category_list, num_train, num_test, data_dir):\n",
    "    filenames_train_all = []\n",
    "    target_train = []\n",
    "    filenames_test_all = []\n",
    "    target_test = []\n",
    "    for category in category_list:\n",
    "        filenames_train, filenames_test = get_images_from_category(category, num_train, num_test, data_dir)\n",
    "        filenames_train_all.extend(filenames_train)\n",
    "        target_train.extend([category] * NUM_IMAGES_TRAIN_PER_CATEGORY)\n",
    "        filenames_test_all.extend(filenames_test)\n",
    "        target_test.extend([category] * NUM_IMAGES_TEST_PER_CATEGORY)\n",
    "    return filenames_train_all, filenames_test_all, target_train, target_test\n",
    "\n",
    "def cria_vocabulario(imagens, num_clusters):\n",
    "    km = cv2.BOWKMeansTrainer(num_clusters)\n",
    "    akaze = cv2.KAZE_create()\n",
    "    for p in imagens:\n",
    "        img = cv2.imread(p, cv2.IMREAD_GRAYSCALE)\n",
    "        mask = np.ones(img.shape)\n",
    "        kp, desc = akaze.detectAndCompute(img, mask)\n",
    "        km.add(desc)\n",
    "    return km.cluster()\n",
    "\n",
    "def representa(vocab, img):\n",
    "    kaze = cv2.KAZE_create()\n",
    "    kp = kaze.detect(img)\n",
    "    bowdesc = cv2.BOWImgDescriptorExtractor(kaze, cv2.FlannBasedMatcher())\n",
    "    bowdesc.setVocabulary(vocab)\n",
    "    return bowdesc.compute(img, kp)\n",
    "\n",
    "def transforma_imagens(imagens, vocab):\n",
    "    X = []\n",
    "    for p in imagens:\n",
    "        img = cv2.imread(p, cv2.IMREAD_GRAYSCALE)\n",
    "        X.append(representa(vocab, img).flatten())\n",
    "    return np.array(X)\n",
    "\n",
    "imagens_train, imagens_test, target_train, target_test = get_images_from_category_list(CATEGORY_LIST, \n",
    "                                                                                        NUM_IMAGES_TRAIN_PER_CATEGORY, \n",
    "                                                                                        NUM_IMAGES_TEST_PER_CATEGORY, \n",
    "                                                                                        DATA_DIR)\n",
    "vocab = cria_vocabulario(imagens_train, NUM_CLUSTERS)\n",
    "X_train = transforma_imagens(imagens_train, vocab)\n",
    "X_test = transforma_imagens(imagens_test, vocab)\n",
    "y_train = target_train\n",
    "y_test = target_test\n",
    "\n",
    "# Create a random forest Classifier. By convention, clf means 'Classifier'\n",
    "clf = RandomForestClassifier(n_jobs=-1, random_state=0, n_estimators = 100)\n",
    "\n",
    "# Train the Classifier to take the training features and learn how they relate\n",
    "# to the training y (the species)\n",
    "clf.fit(X_train, y_train)\n",
    "scr = clf.score(X_test, y_test)"
   ]
  },
  {
   "cell_type": "code",
   "execution_count": null,
   "metadata": {},
   "outputs": [],
   "source": [
    "def show_example(path = \"Testes/Testes/9.png\", Plot = True):\n",
    "    img = cv2.imread(path, cv2.IMREAD_GRAYSCALE)\n",
    "    img_resized = cv2.resize(img, dsize=(120, 120))\n",
    "    if Plot:\n",
    "        plt.imshow(img_resized, cmap='gray', vmin=0, vmax=255)\n",
    "    return representa(vocab, img_resized)\n",
    "\n",
    "show_example()"
   ]
  },
  {
   "cell_type": "markdown",
   "metadata": {},
   "source": [
    "## Análise Exploratória:"
   ]
  },
  {
   "cell_type": "code",
   "execution_count": null,
   "metadata": {},
   "outputs": [],
   "source": [
    "\"\"\"\n",
    "Extrai histograma de frequências relativas de features de todas as imagens do Dataset.\n",
    "\"\"\"\n",
    "\n",
    "# origin_dir = 'Assets//Data_Filtered_Resized'\n",
    "# Hist_Dict = {}\n",
    "# for pkmn in os.listdir(origin_dir):\n",
    "#     Hist_Dict[pkmn] = []\n",
    "#     current_dir = os.path.join(origin_dir,pkmn)\n",
    "#     for k, img in enumerate(os.listdir(current_dir)):\n",
    "#         Hist_Dict[pkmn].append(show_example(os.path.join(current_dir,img), Plot = False))\n",
    "# print(Hist_Dict['Alakazam'])"
   ]
  },
  {
   "cell_type": "code",
   "execution_count": null,
   "metadata": {},
   "outputs": [],
   "source": [
    "lista = []\n",
    "lista_nomes = os.listdir('Assets/Data_Filtered_Resized')\n",
    "for k in Hist_Dict:\n",
    "    x = pd.Series(Hist_Dict[k]).mean()\n",
    "    x = pd.Series(x[0])\n",
    "    lista.append(x)\n",
    "df_medias = pd.DataFrame(lista, index = lista_nomes)"
   ]
  },
  {
   "cell_type": "code",
   "execution_count": null,
   "metadata": {},
   "outputs": [],
   "source": [
    "df_medias\n",
    "print(\"Tabela das frequências relativas médias de cada feature por pokémon\")"
   ]
  },
  {
   "cell_type": "code",
   "execution_count": null,
   "metadata": {},
   "outputs": [],
   "source": [
    "df_medias = df_medias - (1/25) ## Tira o valor médio dos dados, assim aproximando-os do ponto (0,0), e permitindo a distinção entre eles."
   ]
  },
  {
   "cell_type": "code",
   "execution_count": null,
   "metadata": {},
   "outputs": [],
   "source": [
    "df_medias.sum(axis=1)"
   ]
  },
  {
   "cell_type": "code",
   "execution_count": null,
   "metadata": {},
   "outputs": [],
   "source": [
    "normas = (df_medias*df_medias).sum(axis=1)\n",
    "for m in normas.index:\n",
    "    df_medias.loc[m] = df_medias.loc[m]/np.sqrt(normas[m])"
   ]
  },
  {
   "cell_type": "code",
   "execution_count": null,
   "metadata": {},
   "outputs": [],
   "source": [
    "df_medias.dot(df_medias.transpose())\n",
    "print(\"Tabela que mostra o quanto os pokémons são semelhantes entre si, diagonal principal é 1, pois todo pokémon é idêntico a si mesmo.\")"
   ]
  },
  {
   "cell_type": "code",
   "execution_count": null,
   "metadata": {},
   "outputs": [],
   "source": [
    "monstros = []\n",
    "for feat in range(25):\n",
    "    monstros.append(sorted(df_medias.nlargest(n=5, columns=[feat]).index) + [feat])\n",
    "x = sorted(monstros)\n",
    "print(x, \"Aqui, podemos observar que alguns pokémons tem semelhanças muito fortes entre si, pois apresentam as mesmas features em abundância (na média).\")"
   ]
  },
  {
   "cell_type": "markdown",
   "metadata": {},
   "source": [
    "## Bibliografia:\n",
    "- Modelo Bag of Visual Words, e parte da análise exploratória produzidos por/com assistência de Fábio Ayres.\n",
    "- Dataset: [Pokémon Gen One](https://www.kaggle.com/thedagger/pokemon-generation-one/data) da plataforma Kaggle.com\n"
   ]
  }
 ],
 "metadata": {
  "kernelspec": {
   "display_name": "Python 3",
   "language": "python",
   "name": "python3"
  },
  "language_info": {
   "codemirror_mode": {
    "name": "ipython",
    "version": 3
   },
   "file_extension": ".py",
   "mimetype": "text/x-python",
   "name": "python",
   "nbconvert_exporter": "python",
   "pygments_lexer": "ipython3",
   "version": "3.7.3"
  }
 },
 "nbformat": 4,
 "nbformat_minor": 4
}
